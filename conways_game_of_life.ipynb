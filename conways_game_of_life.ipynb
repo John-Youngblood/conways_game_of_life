{
 "cells": [
  {
   "metadata": {},
   "cell_type": "markdown",
   "source": [
    "# Game of Life Prompt\n",
    "Implement [Conway's Game of Life](https://en.wikipedia.org/wiki/Conway%27s_Game_of_Life) in 64-bit signed integer space.\n",
    "\n",
    "Imagine a 2D grid - each cell (coordinate) can be either \"alive\" or \"dead\". Every generation of the simulation, the system ticks forward. Each cell's value changes according to the following:\n",
    "\n",
    "If an \"alive\" cell had less than 2 or more than 3 alive neighbors (in any of the 8 surrounding cells), it becomes dead.\n",
    "If a \"dead\" cell had *exactly* 3 alive neighbors, it becomes alive.\n",
    "Your input is a list of integer coordinates for live cells in the Life 1.06 format. They could be anywhere in the signed 64-bit range. This means the board could be very large!\n",
    "\n",
    "Sample input:\n",
    "```\n",
    "#Life 1.06\n",
    "\n",
    "0 1\n",
    "\n",
    "1 2\n",
    "\n",
    "2 0\n",
    "\n",
    "2 1\n",
    "\n",
    "2 2\n",
    "\n",
    "-2000000000000 -2000000000000\n",
    "\n",
    "-2000000000001 -2000000000001\n",
    "\n",
    "-2000000000000 -2000000000001\n",
    "```\n",
    "\n",
    "Your program should read the state of the simulation from standard input, run 10 iterations of the Game of Life, and print the result to standard output in Life 1.06 format.\n",
    "\n",
    "Please don’t spend more than 3 hours on your solution. Feel free to allocate that time in a manner that works best for your schedule. You may work in any language you prefer.\n",
    "\n",
    "We're most interested in both the technical aspects of how you deal with very large integers and how you go about solving the problem. At the onsite, be prepared to discuss your solution, including the choices and tradeoffs you made. Though not required, you are welcome to bring a laptop with you to your interview to walk us through the code."
   ],
   "id": "8a77807f92f26ee"
  },
  {
   "metadata": {
    "ExecuteTime": {
     "end_time": "2025-07-18T17:53:59.905703Z",
     "start_time": "2025-07-18T17:53:59.902461Z"
    }
   },
   "cell_type": "code",
   "source": "from collections import defaultdict",
   "id": "fbc121e30a2defb3",
   "outputs": [],
   "execution_count": 12
  },
  {
   "metadata": {
    "ExecuteTime": {
     "end_time": "2025-07-18T17:54:00.328520Z",
     "start_time": "2025-07-18T17:54:00.324961Z"
    }
   },
   "cell_type": "code",
   "source": [
    "def game_of_life(life_106_string: str, iterations: int = 10) -> str:\n",
    "    \"\"\"\n",
    "    Runs Conway's Game of Life for a given number of iterations.\n",
    "\n",
    "    This implementation is optimized for sparse boards and conceptually infinite grids\n",
    "    by only tracking the coordinates of live cells.\n",
    "\n",
    "    Args:\n",
    "        life_106_string: A string representing the initial state of the board\n",
    "                         in Life 1.06 format.\n",
    "        iterations: The number of generations to simulate. Defaults to 10.\n",
    "\n",
    "    Returns:\n",
    "        A string representing the final state of the board in Life 1.06 format.\n",
    "    \"\"\"\n",
    "\n",
    "    # --- 1. Parse Input ---\n",
    "    lines = life_106_string.strip().splitlines()\n",
    "    if not lines or lines[0] != \"#Life 1.06\":\n",
    "        raise ValueError(\"Invalid Life 1.06 format: Missing or incorrect header.\")\n",
    "\n",
    "    live_cells = set()\n",
    "    for line in lines[1:]:\n",
    "        try:\n",
    "            x, y = map(int, line.split())\n",
    "            live_cells.add((x, y))\n",
    "        except (ValueError, IndexError):\n",
    "            # Skip malformed lines\n",
    "            continue\n",
    "\n",
    "    # --- 2. Run Simulation ---\n",
    "    for _ in range(iterations):\n",
    "        # defaultdict is efficient for counting neighbors\n",
    "        neighbor_counts = defaultdict(int)\n",
    "\n",
    "        # Count neighbors for all relevant cells\n",
    "        for x, y in live_cells:\n",
    "            for i in range(-1, 2):\n",
    "                for j in range(-1, 2):\n",
    "                    if i == 0 and j == 0:\n",
    "                        continue\n",
    "                    neighbor_counts[(x + i, y + j)] += 1\n",
    "\n",
    "        next_gen_live_cells = set()\n",
    "\n",
    "        # Apply the rules of life\n",
    "        for cell, count in neighbor_counts.items():\n",
    "            # Rule for birth: a dead cell with exactly 3 neighbors comes to life\n",
    "            if cell not in live_cells and count == 3:\n",
    "                next_gen_live_cells.add(cell)\n",
    "            # Rule for survival: a live cell with 2 or 3 neighbors survives\n",
    "            elif cell in live_cells and (count == 2 or count == 3):\n",
    "                next_gen_live_cells.add(cell)\n",
    "\n",
    "        live_cells = next_gen_live_cells\n",
    "\n",
    "    # --- 3. Format Output ---\n",
    "    output_lines = [\"#Life 1.06\"]\n",
    "\n",
    "    # Sort cells for a consistent, readable output\n",
    "    sorted_cells = sorted(list(live_cells))\n",
    "\n",
    "    for x, y in sorted_cells:\n",
    "        output_lines.append(f\"{x} {y}\")\n",
    "\n",
    "    return \"\\n\".join(output_lines)"
   ],
   "id": "a52ce419967f122a",
   "outputs": [],
   "execution_count": 13
  },
  {
   "metadata": {
    "ExecuteTime": {
     "end_time": "2025-07-18T17:54:00.874422Z",
     "start_time": "2025-07-18T17:54:00.871445Z"
    }
   },
   "cell_type": "code",
   "source": [
    "glider_start = \"\"\"\n",
    "#Life 1.06\n",
    "1 0\n",
    "2 1\n",
    "0 2\n",
    "1 2\n",
    "2 2\n",
    "\"\"\"\n",
    "\n",
    "print(\"--- Glider Initial State ---\")\n",
    "print(glider_start.strip())\n",
    "\n",
    "# Run the simulation for 10 iterations\n",
    "glider_end_state = game_of_life(glider_start, 10)\n",
    "\n",
    "print(\"\\n--- Glider State After 10 Iterations ---\")\n",
    "print(glider_end_state)"
   ],
   "id": "d24874005659b86c",
   "outputs": [
    {
     "name": "stdout",
     "output_type": "stream",
     "text": [
      "Initial Glider string \n",
      "#Life 1.06\n",
      "1 0\n",
      "2 1\n",
      "0 2\n",
      "1 2\n",
      "2 2\n",
      "\n",
      "Glider as set of tuples:\n",
      " {(1, 2), (2, 1), (0, 2), (2, 2), (1, 0)} \n",
      "\n",
      "Glider string after parsing:\n",
      " #Life 1.06\n",
      "1 2\n",
      "2 1\n",
      "0 2\n",
      "2 2\n",
      "1 0\n"
     ]
    }
   ],
   "execution_count": 14
  },
  {
   "metadata": {
    "ExecuteTime": {
     "end_time": "2025-07-18T17:54:01.453568Z",
     "start_time": "2025-07-18T17:54:01.449800Z"
    }
   },
   "cell_type": "markdown",
   "source": "## Convolution Method",
   "id": "aab7d5e99e4b1bb5"
  },
  {
   "metadata": {
    "ExecuteTime": {
     "end_time": "2025-07-18T17:54:02.054703Z",
     "start_time": "2025-07-18T17:54:02.051606Z"
    }
   },
   "cell_type": "code",
   "source": [
    "import numpy as np\n",
    "from scipy.signal import convolve2d"
   ],
   "id": "44d7a6433dbe6c4c",
   "outputs": [
    {
     "name": "stdout",
     "output_type": "stream",
     "text": [
      "--- Glider Initial State ---\n",
      "#Life 1.06\n",
      "1 0\n",
      "2 1\n",
      "0 2\n",
      "1 2\n",
      "2 2\n",
      "End Glider as set of tuples:\n",
      " {(1, 2), (2, 1), (0, 2), (2, 2), (1, 0)} \n",
      "\n",
      "\n",
      "--- Glider State After 10 Iterations ---\n",
      "{(4, 4), (2, 4), (4, 3), (4, 5), (3, 5)}\n"
     ]
    }
   ],
   "execution_count": 16
  },
  {
   "metadata": {
    "ExecuteTime": {
     "end_time": "2025-07-17T02:24:44.351450Z",
     "start_time": "2025-07-17T02:24:44.348144Z"
    }
   },
   "cell_type": "code",
   "source": [
    "def update_board_with_convolution(board: np.ndarray) -> np.ndarray:\n",
    "    \"\"\"\n",
    "    Updates a Game of Life board for one iteration using convolution.\n",
    "    Assumes board contains 0s for dead cells and 1s for live cells.\n",
    "    \"\"\"\n",
    "    # The kernel sums up the 8 neighbors of each cell.\n",
    "    kernel = np.array([[1, 1, 1],\n",
    "                       [1, 0, 1],\n",
    "                       [1, 1, 1]])\n",
    "\n",
    "    # Use convolution to count live neighbors for each cell.\n",
    "    # 'same' mode ensures the output array has the same shape as the input.\n",
    "    # 'wrap' handles boundaries by wrapping around (a toroidal array).\n",
    "    neighbor_count = convolve2d(board, kernel, mode='same', boundary='wrap')\n",
    "\n",
    "    # Apply the rules of Life using boolean logic on the entire grid at once.\n",
    "\n",
    "    # Rule 1: A cell is born if it's dead (board == 0) and has 3 neighbors.\n",
    "    born = (board == 0) & (neighbor_count == 3)\n",
    "\n",
    "    # Rule 2: A cell survives if it's alive (board == 1) and has 2 or 3 neighbors.\n",
    "    survives = (board == 1) & ((neighbor_count == 2) | (neighbor_count == 3))\n",
    "\n",
    "    # Combine the born and surviving cells to get the new board state.\n",
    "    # The .astype(int) converts the boolean result (True/False) back to 1s and 0s.\n",
    "    new_board = (born | survives).astype(int)\n",
    "\n",
    "    return new_board\n"
   ],
   "id": "39fa03fc5ca565fb",
   "outputs": [],
   "execution_count": 8
  },
  {
   "metadata": {
    "ExecuteTime": {
     "end_time": "2025-07-18T18:20:58.927514Z",
     "start_time": "2025-07-18T18:20:58.923317Z"
    }
   },
   "cell_type": "code",
   "source": [
    "initial_board = np.zeros((16, 16), dtype=int)\n",
    "initial_board[2:5, 1:4] = 1 # A horizontal blinker\n",
    "\n",
    "print(\"--- Initial Board ---\")\n",
    "print(initial_board)\n",
    "\n",
    "# Update the board for one step\n",
    "next_state_board = update_board_with_convolution(initial_board)\n",
    "\n",
    "print(\"\\n--- Board After 1 Iteration ---\")\n",
    "print(next_state_board) # The blinker should now be vertical"
   ],
   "id": "fe10431f60e454f4",
   "outputs": [],
   "execution_count": 19
  },
  {
   "metadata": {
    "ExecuteTime": {
     "end_time": "2025-07-18T17:54:23.662516Z",
     "start_time": "2025-07-18T17:54:23.659054Z"
    }
   },
   "cell_type": "code",
   "source": [
    "for i in range(10):\n",
    "    next_state_board = update_board_with_convolution(next_state_board)\n",
    "    print(f\"\\n--- Board After {i} Iteration ---\")\n",
    "    print(next_state_board)"
   ],
   "id": "70603e41198682e9",
   "outputs": [],
   "execution_count": 18
  },
  {
   "metadata": {},
   "cell_type": "code",
   "outputs": [],
   "execution_count": null,
   "source": "",
   "id": "677b4fa33aa2c5e4"
  }
 ],
 "metadata": {
  "kernelspec": {
   "display_name": "Python 3",
   "language": "python",
   "name": "python3"
  },
  "language_info": {
   "codemirror_mode": {
    "name": "ipython",
    "version": 2
   },
   "file_extension": ".py",
   "mimetype": "text/x-python",
   "name": "python",
   "nbconvert_exporter": "python",
   "pygments_lexer": "ipython2",
   "version": "2.7.6"
  }
 },
 "nbformat": 4,
 "nbformat_minor": 5
}
